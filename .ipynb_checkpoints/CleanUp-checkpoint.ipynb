{
 "cells": [
  {
   "cell_type": "code",
   "execution_count": 13,
   "metadata": {},
   "outputs": [],
   "source": [
    "# # Dependencies and Setup\n",
    "import matplotlib.pyplot as plt\n",
    "import pandas as pd\n",
    "import numpy as np\n",
    "import requests\n",
    "import time\n",
    "import sys\n",
    "# Import API key\n",
    "from api_keys import api_key\n",
    "from api_keys2 import api_key2"
   ]
  },
  {
   "cell_type": "markdown",
   "metadata": {},
   "source": [
    "## Merge OMDB & TMDB "
   ]
  },
  {
   "cell_type": "markdown",
   "metadata": {},
   "source": [
    "## CleanUp Final Df"
   ]
  },
  {
   "cell_type": "code",
   "execution_count": 7,
   "metadata": {},
   "outputs": [],
   "source": [
    "#save data frame to csv\n",
    "movie_df.to_csv(\"output_data/tmd_api_movie_2019.csv\",index=False)"
   ]
  },
  {
   "cell_type": "code",
   "execution_count": null,
   "metadata": {},
   "outputs": [],
   "source": []
  },
  {
   "cell_type": "code",
   "execution_count": null,
   "metadata": {},
   "outputs": [],
   "source": []
  },
  {
   "cell_type": "code",
   "execution_count": null,
   "metadata": {},
   "outputs": [],
   "source": []
  },
  {
   "cell_type": "code",
   "execution_count": null,
   "metadata": {},
   "outputs": [],
   "source": []
  },
  {
   "cell_type": "code",
   "execution_count": null,
   "metadata": {},
   "outputs": [],
   "source": []
  },
  {
   "cell_type": "code",
   "execution_count": null,
   "metadata": {},
   "outputs": [],
   "source": [
    "# genre_df=pd.DataFrame(movie_df[\"Genres\"].values.tolist(), columns = [\"Genre1\", \"Genre2\", \"Genre3\",\n",
    "#                                                                     \"Genre4\",\"Genre5\",\"Genre6\",\"Genre7\",\"Genre8\"])\n",
    "# company_df=pd.DataFrame(movie_df[\"Production Company\"].values.tolist(),columns = [\"company1\",\"company2\",\"company3\",\"company4\",\"company5\",\"company6\",\"company7\",\"company8\",\"company9\",\"company10\",\"company11\",\"company12\",\"company13\",\n",
    "#                                                                                   \"company14\",\"company15\",\"company16\",\"company17\",\"company18\",\"company19\",\"company20\",\"company21\",\"company22\",\"company23\",\"company24\",\"company25\",\"company26\"])\n",
    "# #country_df=pd.DataFrame(movie_df[\"Production Country\"].values.tolist(),columns=[\"Country1\",\"Country2\",\"Country3\"])\n"
   ]
  },
  {
   "cell_type": "code",
   "execution_count": null,
   "metadata": {},
   "outputs": [],
   "source": [
    "# movie_final_df = pd.concat([movie_df,genre_df,company_df],axis=1)\n",
    "# movie_final_df = movie_final_df.drop([\"Genres\",\"Production Company\"], axis = 1)\n",
    "# movie_final_df.head()"
   ]
  },
  {
   "cell_type": "code",
   "execution_count": null,
   "metadata": {},
   "outputs": [],
   "source": []
  },
  {
   "cell_type": "code",
   "execution_count": null,
   "metadata": {},
   "outputs": [],
   "source": [
    "# #save data frame to csv\n",
    "# movie_final_df.to_csv(\"output_data/tmd_api_movie.csv\",index=False)"
   ]
  },
  {
   "cell_type": "code",
   "execution_count": null,
   "metadata": {},
   "outputs": [],
   "source": []
  },
  {
   "cell_type": "code",
   "execution_count": null,
   "metadata": {},
   "outputs": [],
   "source": []
  },
  {
   "cell_type": "code",
   "execution_count": null,
   "metadata": {},
   "outputs": [],
   "source": []
  }
 ],
 "metadata": {
  "kernelspec": {
   "display_name": "Python 3",
   "language": "python",
   "name": "python3"
  },
  "language_info": {
   "codemirror_mode": {
    "name": "ipython",
    "version": 3
   },
   "file_extension": ".py",
   "mimetype": "text/x-python",
   "name": "python",
   "nbconvert_exporter": "python",
   "pygments_lexer": "ipython3",
   "version": "3.7.4"
  }
 },
 "nbformat": 4,
 "nbformat_minor": 4
}
